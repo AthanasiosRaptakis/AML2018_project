{
 "cells": [
  {
   "cell_type": "code",
   "execution_count": 5,
   "metadata": {},
   "outputs": [],
   "source": [
    "import numpy as np\n",
    "import torch\n",
    "from torch.utils.data import Dataset, DataLoader\n",
    "from include.data_v2 import ObjectSegmentationDataset\n",
    "import matplotlib.pyplot as plt"
   ]
  },
  {
   "cell_type": "code",
   "execution_count": 6,
   "metadata": {},
   "outputs": [],
   "source": [
    "train_dataset = ObjectSegmentationDataset(\n",
    "    src_image_dir=\"/home/thanos/Desktop/Dataset/TRAIN/Data/\",\n",
    "    seg_image_dir=\"/home/thanos/Desktop/Dataset/TRAIN/Ground_Truth/\",\n",
    "    \n",
    "    num_classes=21)\n",
    "\n",
    "#    src_image_dir=\"/home/thanos/VOCdevkit/VOC2012/VAL/Data/\",\n",
    "#    seg_image_dir=\"/home/thanos/VOCdevkit/VOC2012/VAL/Ground_Truth/\",\n",
    "\n",
    "validation_dataset = ObjectSegmentationDataset(\n",
    "     src_image_dir=\"/home/thanos/Desktop/Dataset/VAL/Data/\",\n",
    "     seg_image_dir=\"/home/thanos/Desktop/Dataset/VAL/Ground_Truth/\",\n",
    "\n",
    "     num_classes=21)\n",
    "\n",
    "bs=1\n",
    "Train_Loader = torch.utils.data.DataLoader(train_dataset, batch_size=bs, shuffle=False, num_workers=4)\n",
    "VAL_Loader = torch.utils.data.DataLoader(validation_dataset, batch_size=bs, shuffle=False, num_workers=4)"
   ]
  },
  {
   "cell_type": "code",
   "execution_count": 7,
   "metadata": {},
   "outputs": [
    {
     "name": "stdout",
     "output_type": "stream",
     "text": [
      "[R_mean,G_mean,B_mean] = [0.45752926384356873,0.4377081874543038,0.40432555437277296]\n"
     ]
    }
   ],
   "source": [
    "R_mean=0\n",
    "G_mean=0\n",
    "B_mean=0\n",
    "\n",
    "\n",
    "for data in Train_Loader:\n",
    "        src_img, seg_img = data\n",
    "        I=src_img.data[0].numpy()\n",
    "        R=I[:,:,0]\n",
    "        G=I[:,:,1]\n",
    "        B=I[:,:,2]\n",
    "        R_mean=R_mean+np.mean(R)\n",
    "        G_mean=G_mean+np.mean(G)\n",
    "        B_mean=B_mean+np.mean(B)\n",
    "for data in VAL_Loader:\n",
    "        src_img, seg_img = data\n",
    "        I=src_img.data[0].numpy()\n",
    "        R=I[:,:,0]\n",
    "        G=I[:,:,1]\n",
    "        B=I[:,:,2]\n",
    "        R_mean=R_mean+np.mean(R)\n",
    "        G_mean=G_mean+np.mean(G)\n",
    "        B_mean=B_mean+np.mean(B)        \n",
    "        \n",
    "        \n",
    "R_mean=R_mean/(12031.0*255)   \n",
    "G_mean=G_mean/(12031.0*255)\n",
    "B_mean=B_mean/(12031.0*255)\n",
    "\n",
    "print(\"[R_mean,G_mean,B_mean] = [{0},{1},{2}]\".format(R_mean,G_mean,B_mean))"
   ]
  },
  {
   "cell_type": "code",
   "execution_count": 13,
   "metadata": {},
   "outputs": [
    {
     "name": "stdout",
     "output_type": "stream",
     "text": [
      "[R_mean,G_mean,B_mean] = [0.45752926384356873,0.4377081874543038,0.40432555437277296]\n",
      "[R_std,G_std,B_std] = [0.2664644516691583,0.2634024345463397,0.2775109722016356]\n"
     ]
    }
   ],
   "source": [
    "R_std=0\n",
    "G_std=0\n",
    "B_std=0\n",
    "\n",
    "R_var=0\n",
    "G_var=0\n",
    "B_var=0\n",
    "\n",
    "\n",
    "for data in Train_Loader:\n",
    "        src_img, seg_img = data\n",
    "        I=src_img.data[0].numpy()\n",
    "        R=I[:,:,0]/255\n",
    "        G=I[:,:,1]/255\n",
    "        B=I[:,:,2]/255\n",
    "        R_var=R_var+np.mean(abs(R - R_mean)**2)\n",
    "        G_var=G_var+np.mean(abs(G - G_mean)**2)\n",
    "        B_var=B_var+np.mean(abs(B - B_mean)**2)\n",
    "\n",
    "for data in VAL_Loader:\n",
    "        src_img, seg_img = data\n",
    "        I=src_img.data[0].numpy()\n",
    "        R=I[:,:,0]/255\n",
    "        G=I[:,:,1]/255\n",
    "        B=I[:,:,2]/255\n",
    "        R_var=R_var+np.mean(abs(R - R_mean)**2)\n",
    "        G_var=G_var+np.mean(abs(G - G_mean)**2)\n",
    "        B_var=B_var+np.mean(abs(B - B_mean)**2)\n",
    "\n",
    "R_std=np.sqrt(R_var/12031.0)\n",
    "G_std=np.sqrt(G_var/12031.0)\n",
    "B_std=np.sqrt(B_var/12031.0)\n",
    "\n",
    "print(\"[R_mean,G_mean,B_mean] = [{0},{1},{2}]\".format(R_mean,G_mean,B_mean))\n",
    "print(\"[R_std,G_std,B_std] = [{0},{1},{2}]\".format(R_std,G_std,B_std))"
   ]
  }
 ],
 "metadata": {
  "kernelspec": {
   "display_name": "Python 3",
   "language": "python",
   "name": "python3"
  },
  "language_info": {
   "codemirror_mode": {
    "name": "ipython",
    "version": 3
   },
   "file_extension": ".py",
   "mimetype": "text/x-python",
   "name": "python",
   "nbconvert_exporter": "python",
   "pygments_lexer": "ipython3",
   "version": "3.6.6"
  }
 },
 "nbformat": 4,
 "nbformat_minor": 2
}
