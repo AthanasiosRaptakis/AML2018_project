{
 "cells": [
  {
   "cell_type": "code",
   "execution_count": 2,
   "metadata": {},
   "outputs": [],
   "source": [
    "import numpy as np\n",
    "import os\n",
    "from shutil import copy"
   ]
  },
  {
   "cell_type": "code",
   "execution_count": 21,
   "metadata": {},
   "outputs": [
    {
     "name": "stdout",
     "output_type": "stream",
     "text": [
      "size of Training Set =  1464\n",
      "size of Validation Set =  1449\n"
     ]
    }
   ],
   "source": [
    "train_path='/home/thanos/VOCdevkit/VOC2012/ImageSets/Segmentation/train.txt'\n",
    "val_path='/home/thanos/VOCdevkit/VOC2012/ImageSets/Segmentation/val.txt'\n",
    "\n",
    "with open(train_path) as line:\n",
    "    train_list =  [line.rstrip('\\n') for line in open(train_path)]\n",
    "print(\"size of Training Set = \",len(train_list))\n",
    "\n",
    "with open(val_path) as line:\n",
    "    val_list =  [line.rstrip('\\n') for line in open(val_path)]\n",
    "print(\"size of Validation Set = \",len(val_list))"
   ]
  },
  {
   "cell_type": "code",
   "execution_count": null,
   "metadata": {},
   "outputs": [],
   "source": [
    "# Create separate training and validation folders\n",
    "Directories=[\"/home/thanos/VOCdevkit/VOC2012/TRAIN/Data\",\n",
    "\"/home/thanos/VOCdevkit/VOC2012/TRAIN/Ground_Truth\",\n",
    "\"/home/thanos/VOCdevkit/VOC2012/VAL/Data\",\n",
    "\"/home/thanos/VOCdevkit/VOC2012/VAL/Ground_Truth\"]\n",
    "\n",
    "for directory in Directories:\n",
    "    os.makedirs(directory)"
   ]
  },
  {
   "cell_type": "code",
   "execution_count": 4,
   "metadata": {},
   "outputs": [],
   "source": [
    "# Create a directory for saving models and parameters\n",
    "os.makedirs(\"/home/thanos/VOCdevkit/VOC2012/MODELS\")"
   ]
  },
  {
   "cell_type": "code",
   "execution_count": 20,
   "metadata": {},
   "outputs": [],
   "source": [
    "#copy train data and Ground Truth at TRAIN folder\n",
    "for filename in train_list:\n",
    "    src_data=\"/home/thanos/VOCdevkit/VOC2012/JPEGImages/\"+filename+\".jpg\"\n",
    "    dst_data=\"/home/thanos/VOCdevkit/VOC2012/TRAIN/Data/\"\n",
    "    src_GT=\"/home/thanos/VOCdevkit/VOC2012/SegmentationClass/\"+filename+\".png\"\n",
    "    dst_GT=\"/home/thanos/VOCdevkit/VOC2012/TRAIN/Ground_Truth/\"\n",
    "    \n",
    "    copy(src_data, dst_data)\n",
    "    copy(src_GT, dst_GT)\n",
    "    \n",
    "#copy Validation data and Ground Truth at VAL folder\n",
    "for filename in val_list:\n",
    "    src_data=\"/home/thanos/VOCdevkit/VOC2012/JPEGImages/\"+filename+\".jpg\"\n",
    "    dst_data=\"/home/thanos/VOCdevkit/VOC2012/VAL/Data/\"\n",
    "    src_GT=\"/home/thanos/VOCdevkit/VOC2012/SegmentationClass/\"+filename+\".png\"\n",
    "    dst_GT=\"/home/thanos/VOCdevkit/VOC2012/VAL/Ground_Truth/\"\n",
    "    \n",
    "    copy(src_data, dst_data)\n",
    "    copy(src_GT, dst_GT)      "
   ]
  }
 ],
 "metadata": {
  "kernelspec": {
   "display_name": "Python 3",
   "language": "python",
   "name": "python3"
  },
  "language_info": {
   "codemirror_mode": {
    "name": "ipython",
    "version": 3
   },
   "file_extension": ".py",
   "mimetype": "text/x-python",
   "name": "python",
   "nbconvert_exporter": "python",
   "pygments_lexer": "ipython3",
   "version": "3.6.6"
  }
 },
 "nbformat": 4,
 "nbformat_minor": 2
}
